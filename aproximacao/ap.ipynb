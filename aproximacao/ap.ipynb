{
 "cells": [
  {
   "attachments": {},
   "cell_type": "markdown",
   "metadata": {},
   "source": [
    " Marque V para verdadeiro, F para falso\n",
    "a. A regressão linear de dois pontos (com abscissas diferentes) é equivalente à interpolação linear\n",
    "b. A regressão linear de 100 pontos resulta em um polinômio de grau 99\n",
    "c. A regressão linear resulta na mesma função da interpolação linear se todos os pontos forem\n",
    "colineares.\n",
    "d. A regressão linear, como foi visto nas aulas, minimiza a distância euclidiana entre os pontos e a\n",
    "reta.\n",
    "e. É impossível aplicar regressão polinomial em pontos que se comportam como uma senóide\n",
    "f. A regressão polinomial usando uma função na forma ax2+bx+c envolve a resolução de um sistema\n",
    "linear 3x3\n",
    "\n",
    "\n",
    "a. A afirmativa a é FALSA. A regressão linear de dois pontos não é equivalente à interpolação linear. A regressão linear encontra uma reta que melhor se ajusta aos pontos, enquanto a interpolação linear encontra uma reta que passa exatamente pelos pontos dados. A regressão linear não garante que a reta passe pelos pontos dados, mas sim que minimize a soma dos quadrados das distâncias entre os pontos e a reta. mathhelpforum.com\n",
    "\n",
    "b. A afirmativa b é VERDADEIRA. Se você tem 100 pontos, a regressão linear resultará em um polinômio de grau 99. A regressão linear encontra uma reta que melhor se ajusta aos dados, e uma reta é um polinômio de grau 1. Portanto, com 100 pontos, o polinômio resultante terá grau 99. mathhelpforum.com\n",
    "\n",
    "c. A afirmativa c é FALSA. A regressão linear e a interpolação linear não resultam na mesma função quando todos os pontos são colineares. A regressão linear encontrará uma reta que melhor se ajusta aos pontos, enquanto a interpolação linear encontrará uma reta que passa exatamente pelos pontos dados. Se todos os pontos forem colineares, a interpolação linear passará por todos os pontos, enquanto a regressão linear encontrará uma reta que minimiza a soma dos quadrados das distâncias entre os pontos e a reta. mathhelpforum.com\n",
    "\n",
    "d. A afirmativa d é VERDADEIRA. A regressão linear, como foi vista nas aulas, minimiza a distância euclidiana entre os pontos e a reta. A técnica de regressão linear busca encontrar uma reta que minimize a soma dos quadrados das distâncias entre os pontos e a reta. Essa é uma das formas de medir a qualidade do ajuste da reta aos pontos. mathhelpforum.com\n",
    "\n",
    "e. A afirmativa e é VERDADEIRA. É impossível aplicar regressão polinomial em pontos que se comportam como uma senoide. A regressão polinomial é adequada para ajustar dados que seguem um padrão polinomial, mas não é adequada para ajustar dados que seguem um padrão senoidal. Nesses casos, é mais apropriado utilizar uma regressão trigonométrica ou outro método adequado para ajustar a função senoidal aos dados. medium.datadriveninvestor.com\n",
    "\n",
    "f. A afirmativa f é FALSA. A regressão polinomial usando uma função na forma ax2+bx+c não envolve necessariamente a resolução de um sistema linear 3x3. A regressão polinomial é uma técnica que envolve ajustar uma curva polinomial aos dados. A forma da função polinomial dependerá do grau do polinômio desejado. Para uma função na forma ax2+bx+c, trata-se de um polinômio de grau 2, e a resolução envolverá a solução de um sistema linear 3x3. No entanto, a regressão polinomial pode envolver polinômios de graus diferentes, e a resolução do sistema linear dependerá do grau do polinômio escolhido. mathhelpforum.com"
   ]
  },
  {
   "attachments": {},
   "cell_type": "markdown",
   "metadata": {},
   "source": [
    " Um levantamento teve como resultado um arquivo (pesos.txt, disponível no GitHub) com altura e\n",
    "peso de adultos de uma determinada região.\n",
    "a. Calcule uma função linear que represente bem a relação entre peso e altura.\n",
    "b. Plote um gráfico com os pontos e a função obtida.\n",
    "c. Estime o peso de uma pessoa com altura 2m10cm"
   ]
  },
  {
   "attachments": {},
   "cell_type": "markdown",
   "metadata": {},
   "source": [
    "▷ Você está se tornando sócio de uma empresa brasileira de serviços em nuvem que está começando agora\n",
    "no mercado e precisa regularmente investir em novos equipamentos. Grande parte desses equipamentos\n",
    "são importados e, portanto, têm seus preços cotados em dólares. Com as quebras recentes das cadeias\n",
    "produtivas no mundo todo, o repasse de preços se acumularam, fazendo com que a correção dos preços\n",
    "dos equipamentos em real não seja linear. Por exemplo, se o dólar dobrar de valor em relação ao real,\n",
    "pode ser, por exemplo, que o valor do equipamento triplique de valor.\n",
    "Com a recente volatilidade do dólar, a empresa precisa fazer uma boa estimativa de custos futuros em\n",
    "função da cotação do dólar. Para construir um modelo que lhe forneça boas estimativas, você coletou\n",
    "dados recentes dos últimos 5 anos que devem refletir a relação entre cotação do dólar e o preço dos\n",
    "equipamentos (precos.txt, disponível no GitHub). As amostras podem ser vistas na Figura 1. Calcule\n",
    "uma função quadrática que represente bem a relação entre cotação do dólar e o preço dos equipamentos.\n",
    "Estime o preço caso o dólar esteja a R$5,50"
   ]
  }
 ],
 "metadata": {
  "kernelspec": {
   "display_name": "Python 3 (ipykernel)",
   "language": "python",
   "name": "python3"
  },
  "language_info": {
   "codemirror_mode": {
    "name": "ipython",
    "version": 3
   },
   "file_extension": ".py",
   "mimetype": "text/x-python",
   "name": "python",
   "nbconvert_exporter": "python",
   "pygments_lexer": "ipython3",
   "version": "3.10.4"
  },
  "orig_nbformat": 4
 },
 "nbformat": 4,
 "nbformat_minor": 2
}
