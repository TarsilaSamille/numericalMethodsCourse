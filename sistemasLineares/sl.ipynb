{
 "cells": [
  {
   "attachments": {},
   "cell_type": "markdown",
   "metadata": {},
   "source": [
    "## 1. Marque V para verdadeiro, F para falso\n",
    "a. Um sistema linear com 2 equações e 3 variáveis é subdeterminado\n",
    "\n",
    "    Verdadeiro. Um sistema linear é subdeterminado se ele possui mais variáveis do que equações. Nesse caso, existem várias soluções possíveis para o sistema, ou seja, ele não determina um valor único para cada variável. \n",
    "\n",
    "b. Um sistema linear com 3 equações e 3 variáveis sempre tem uma única solução\n",
    "\n",
    "    Verdadeiro. Um sistema linear com o mesmo número de equações e variáveis é chamado de sistema linear quadrado. Quando o determinante da matriz dos coeficientes do sistema é diferente de zero, o sistema tem uma única solução.\n",
    "\n",
    "c. Um sistema linear com 10 equações e 2 variáveis é sempre impossível\n",
    "\n",
    "   Falso. Um sistema linear com mais equações do que variáveis é chamado de sistema sobre-determinado. A solução desse tipo de sistema depende das equações envolvidas e de suas relações. Em alguns casos, um sistema sobre-determinado pode ter uma solução única, infinitas soluções ou nenhuma solução. \n",
    "\n",
    "d. Dado um sistema linear N x N, o i-ésimo passo da eliminação de Gauss consiste em zerar todos os elementos\n",
    "abaixo do pivô da i-ésima coluna\n",
    "\n",
    "    Verdadeiro. O i-ésimo passo da eliminação de Gauss consiste em zerar todos os elementos abaixo do pivô da i-ésima coluna. O pivô é o elemento da diagonal principal da i-ésima linha. \n",
    "\n",
    "e. No método de Gauss-Jordan, o i-ésimo passo compreende zerar completamente a i-ésima coluna\n",
    "\n",
    "    Verdadeiro. No método de Gauss-Jordan, o i-ésimo passo compreende zerar completamente a i-ésima coluna, tornando o elemento da diagonal principal igual a 1. Esse processo é chamado de escalonamento.\n",
    "\n",
    "f. A troca de duas linhas em A|b pode alterar a solução do sistema linear\n",
    "\n",
    "    Verdadeiro. A troca de duas linhas em A|b pode alterar a solução do sistema linear. Isso ocorre porque a troca de linhas pode alterar a ordem dos coeficientes e dos termos independentes, mudando assim a matriz dos coeficientes e a matriz estendida. ime.usp.br\n",
    "\n",
    "g. A decomposição LU consiste em decompor uma matriz quadrada A em L, matriz diagonal e uma matriz U,\n",
    "triangular superior, tal que A = LU\n",
    "\n",
    "    Verdadeiro. A decomposição LU consiste em decompor uma matriz quadrada A em L, matriz diagonal e uma matriz U, triangular superior, tal que A = LU. A decomposição LU é útil para resolver sistemas lineares, pois permite a resolução de sistemas lineares com uma mesma matriz dos coeficientes, mas diferentes termos independentes.\n",
    "\n",
    "h. As estratégias de pivotamento diminuem o erro da solução do sistema linear ao escolher como pivô elemen-\n",
    "tos com maior valor em módulo\n",
    "\n",
    "    Verdadeiro. As estratégias de pivotamento diminuem o erro da solução do sistema linear ao escolher como pivô elementos com maior valor em módulo. \n",
    "\n",
    "\n",
    "i. Dado o vetor resíduo 𝑟 = 𝑏 − 𝐴̄𝑥 o refinamento consiste em obter um vetor de correção y resolvendo-se\n",
    "𝐴𝑦 = 𝑟 o qual deve ser somado em̄ 𝑥\n",
    "\n",
    "    Verdadeiro. Dado o vetor resíduo r = b - Āx o refinamento consiste em obter um vetor de correção y resolvendo-se Āy = r o qual deve ser somado em̄ x. O refinamento melhora a precisão da solução encontrada pelo método numérico utilizado. ime.usp.br"
   ]
  },
  {
   "attachments": {},
   "cell_type": "markdown",
   "metadata": {},
   "source": [
    "Implemente o algoritmo de eliminação de Gauss-Jordan utilizando os templates (em C ou python) disponíveisno github. Teste com os sistemas lineares disponibilizados pelo professor no repositório. O arquivo de entradacontém um inteiro n, seguido de n linhas com n + 1 números cada (a linha i contém cada𝑎𝑖𝑗, seguidos de𝑏𝑖). A leitura dessa matriz já é realizada no template. Aplique uma iteração de refinamento e analise o impacto na normado vetor resíduo"
   ]
  },
  {
   "cell_type": "code",
   "execution_count": 8,
   "metadata": {},
   "outputs": [
    {
     "name": "stdout",
     "output_type": "stream",
     "text": [
      "Solution vector x: [ 1.22816879  1.25013022 -0.81479816 -0.72067807]\n",
      "Norm of the residual vector: 0.0 [0. 0. 0. 0.]\n"
     ]
    }
   ],
   "source": [
    "import numpy as np\n",
    "import sys\n",
    "\n",
    "def gauss_jordan(A):\n",
    "    n = len(A)\n",
    "    for i in range(n):\n",
    "        pivot = A[i][i]\n",
    "        for j in range(i, n + 1):\n",
    "            A[i][j] /= pivot\n",
    "        for k in range(n):\n",
    "            if k != i:\n",
    "                factor = A[k][i]\n",
    "                for j in range(i, n + 1):\n",
    "                    A[k][j] -= factor * A[i][j]\n",
    "    return A[:, -1]\n",
    "\n",
    "try:\n",
    "    arq = open(\"/workspaces/numericalMethodsCourse/sistemasLineares/m1.in\")\n",
    "except FileNotFoundError:\n",
    "    print(\"File not found. Please check the file name and try again.\")\n",
    "    sys.exit(1)\n",
    "\n",
    "lines = arq.readlines()\n",
    "\n",
    "A = np.array([[float(x) for x in line.split(' ')] for line in lines[1:]])\n",
    "\n",
    "arq.close()\n",
    "\n",
    "x = gauss_jordan(A)\n",
    "\n",
    "# Apply refinement iteration\n",
    "b = A[:, -1]\n",
    "r = b - np.dot(A[:, :-1], x)\n",
    "r_norm = np.linalg.norm(r)\n",
    "\n",
    "print(\"Solution vector x:\", x)\n",
    "print(\"Norm of the residual vector:\", r_norm, r)\n"
   ]
  },
  {
   "cell_type": "code",
   "execution_count": 9,
   "metadata": {},
   "outputs": [
    {
     "name": "stdout",
     "output_type": "stream",
     "text": [
      "Solution vector x: [-0.1250856   2.56230353 -0.70000643  1.23960962 -1.69135567 -1.51787436\n",
      " -0.32982416  0.53292235 -0.52411394 -0.6686046   0.57550037 -2.98556031\n",
      " -0.90312808  0.0634863   0.24067224  0.7453196  -1.5187977   0.66813423\n",
      "  1.64471017 -2.00899921 -0.85219585  2.19992812 -0.43131972  0.16726556\n",
      "  2.32848392  2.84681307  0.48275346  0.99889436 -0.19503551  1.28431615\n",
      "  1.19569427 -3.15524152 -0.08689086 -0.66267606  2.77315423 -5.81235164\n",
      "  2.00932987 -1.50917094 -2.09500503 -0.4539184   0.87341179  2.55014186\n",
      "  1.9532642   1.72165137  0.65723047 -2.48400545  1.23856427  0.20696197\n",
      " -2.79496151 -0.03093238 -2.3746026   1.78673324  0.61980398 -1.55578219\n",
      "  0.32767843 -1.29861098  0.28665368 -2.69225092  1.78177839  0.17665243\n",
      "  2.07728561  2.29589925  1.68777407 -2.06887221 -0.30219051 -1.21955583\n",
      " -2.95611562  0.33138727 -0.38577993 -1.37014957 -0.03698123 -0.7790926\n",
      " -0.42363989  2.05749891  2.20067197 -0.16757111 -2.63675342  0.97480985\n",
      " -0.69994292  1.59977831 -0.48745126  0.69434139  0.17715055 -1.14066936\n",
      " -2.21713612 -0.54880038 -0.70396256 -0.27368783]\n",
      "Norm of the residual vector: 0.0 [0. 0. 0. 0. 0. 0. 0. 0. 0. 0. 0. 0. 0. 0. 0. 0. 0. 0. 0. 0. 0. 0. 0. 0.\n",
      " 0. 0. 0. 0. 0. 0. 0. 0. 0. 0. 0. 0. 0. 0. 0. 0. 0. 0. 0. 0. 0. 0. 0. 0.\n",
      " 0. 0. 0. 0. 0. 0. 0. 0. 0. 0. 0. 0. 0. 0. 0. 0. 0. 0. 0. 0. 0. 0. 0. 0.\n",
      " 0. 0. 0. 0. 0. 0. 0. 0. 0. 0. 0. 0. 0. 0. 0. 0.]\n"
     ]
    }
   ],
   "source": [
    "\n",
    "try:\n",
    "    arq = open(\"/workspaces/numericalMethodsCourse/sistemasLineares/m2.in\")\n",
    "except FileNotFoundError:\n",
    "    print(\"File not found. Please check the file name and try again.\")\n",
    "    sys.exit(1)\n",
    "\n",
    "lines = arq.readlines()\n",
    "\n",
    "A = np.array([[float(x) for x in line.split(' ')] for line in lines[1:]])\n",
    "\n",
    "arq.close()\n",
    "\n",
    "x = gauss_jordan(A)\n",
    "\n",
    "# Apply refinement iteration\n",
    "b = A[:, -1]\n",
    "r = b - np.dot(A[:, :-1], x)\n",
    "r_norm = np.linalg.norm(r)\n",
    "\n",
    "print(\"Solution vector x:\", x)\n",
    "print(\"Norm of the residual vector:\", r_norm, r)\n"
   ]
  }
 ],
 "metadata": {
  "kernelspec": {
   "display_name": "Python 3 (ipykernel)",
   "language": "python",
   "name": "python3"
  },
  "language_info": {
   "codemirror_mode": {
    "name": "ipython",
    "version": 3
   },
   "file_extension": ".py",
   "mimetype": "text/x-python",
   "name": "python",
   "nbconvert_exporter": "python",
   "pygments_lexer": "ipython3",
   "version": "3.10.4"
  },
  "orig_nbformat": 4
 },
 "nbformat": 4,
 "nbformat_minor": 2
}
